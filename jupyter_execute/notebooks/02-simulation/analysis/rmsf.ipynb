{
 "cells": [
  {
   "cell_type": "markdown",
   "id": "0df03aec-59fc-4438-9516-559cc19b4519",
   "metadata": {},
   "source": [
    "# Root Mean Square Fluctuation (RMSF)\n",
    "\n",
    "Plot for C$_{\\alpha}$ of protein in Amber MD simulation, with domains labeled by color."
   ]
  },
  {
   "cell_type": "code",
   "execution_count": 1,
   "id": "b363e151-3537-4770-b504-8993b4ef4a6c",
   "metadata": {},
   "outputs": [
    {
     "ename": "ImportError",
     "evalue": "dlopen(/Users/van/Programs/miniforge3/envs/webdev/lib/python3.11/site-packages/pytraj/core/topology_objects.cpython-311-darwin.so, 0x0002): tried: '/Users/van/Programs/miniforge3/envs/webdev/lib/python3.11/site-packages/pytraj/core/topology_objects.cpython-311-darwin.so' (mach-o file, but is an incompatible architecture (have 'x86_64', need 'arm64e' or 'arm64')), '/System/Volumes/Preboot/Cryptexes/OS/Users/van/Programs/miniforge3/envs/webdev/lib/python3.11/site-packages/pytraj/core/topology_objects.cpython-311-darwin.so' (no such file), '/Users/van/Programs/miniforge3/envs/webdev/lib/python3.11/site-packages/pytraj/core/topology_objects.cpython-311-darwin.so' (mach-o file, but is an incompatible architecture (have 'x86_64', need 'arm64e' or 'arm64'))",
     "output_type": "error",
     "traceback": [
      "\u001b[0;31m---------------------------------------------------------------------------\u001b[0m",
      "\u001b[0;31mImportError\u001b[0m                               Traceback (most recent call last)",
      "Cell \u001b[0;32mIn[1], line 2\u001b[0m\n\u001b[1;32m      1\u001b[0m \u001b[38;5;28;01mimport\u001b[39;00m \u001b[38;5;21;01mnumpy\u001b[39;00m \u001b[38;5;28;01mas\u001b[39;00m \u001b[38;5;21;01mnp\u001b[39;00m\n\u001b[0;32m----> 2\u001b[0m \u001b[38;5;28;01mimport\u001b[39;00m \u001b[38;5;21;01mpytraj\u001b[39;00m \u001b[38;5;28;01mas\u001b[39;00m \u001b[38;5;21;01mpt\u001b[39;00m\n\u001b[1;32m      3\u001b[0m \u001b[38;5;28;01mimport\u001b[39;00m \u001b[38;5;21;01mmatplotlib\u001b[39;00m\u001b[38;5;21;01m.\u001b[39;00m\u001b[38;5;21;01mpyplot\u001b[39;00m \u001b[38;5;28;01mas\u001b[39;00m \u001b[38;5;21;01mplt\u001b[39;00m\n\u001b[1;32m      5\u001b[0m \u001b[38;5;66;03m# Load trajectory\u001b[39;00m\n",
      "File \u001b[0;32m~/Programs/miniforge3/envs/webdev/lib/python3.11/site-packages/pytraj/__init__.py:24\u001b[0m\n\u001b[1;32m     22\u001b[0m \u001b[38;5;28;01mfrom\u001b[39;00m \u001b[38;5;21;01m.\u001b[39;00m\u001b[38;5;21;01mutils\u001b[39;00m \u001b[38;5;28;01mimport\u001b[39;00m c_commands\n\u001b[1;32m     23\u001b[0m \u001b[38;5;28;01mfrom\u001b[39;00m \u001b[38;5;21;01m.\u001b[39;00m\u001b[38;5;21;01mutils\u001b[39;00m \u001b[38;5;28;01mimport\u001b[39;00m tools\n\u001b[0;32m---> 24\u001b[0m \u001b[38;5;28;01mfrom\u001b[39;00m \u001b[38;5;21;01m.\u001b[39;00m\u001b[38;5;21;01mutils\u001b[39;00m\u001b[38;5;21;01m.\u001b[39;00m\u001b[38;5;21;01mmisc\u001b[39;00m \u001b[38;5;28;01mimport\u001b[39;00m info\n\u001b[1;32m     25\u001b[0m \u001b[38;5;28;01mfrom\u001b[39;00m \u001b[38;5;21;01m.\u001b[39;00m\u001b[38;5;21;01mutils\u001b[39;00m\u001b[38;5;21;01m.\u001b[39;00m\u001b[38;5;21;01mcyutils\u001b[39;00m \u001b[38;5;28;01mimport\u001b[39;00m _fast_iterptr \u001b[38;5;28;01mas\u001b[39;00m iterframe_from_array\n\u001b[1;32m     26\u001b[0m \u001b[38;5;28;01mfrom\u001b[39;00m \u001b[38;5;21;01m.\u001b[39;00m\u001b[38;5;21;01mcore\u001b[39;00m\u001b[38;5;21;01m.\u001b[39;00m\u001b[38;5;21;01mc_options\u001b[39;00m \u001b[38;5;28;01mimport\u001b[39;00m info \u001b[38;5;28;01mas\u001b[39;00m compiled_info\n",
      "File \u001b[0;32m~/Programs/miniforge3/envs/webdev/lib/python3.11/site-packages/pytraj/utils/misc.py:7\u001b[0m\n\u001b[1;32m      5\u001b[0m \u001b[38;5;28;01mimport\u001b[39;00m \u001b[38;5;21;01mos\u001b[39;00m\n\u001b[1;32m      6\u001b[0m \u001b[38;5;28;01mfrom\u001b[39;00m \u001b[38;5;21;01mglob\u001b[39;00m \u001b[38;5;28;01mimport\u001b[39;00m glob\n\u001b[0;32m----> 7\u001b[0m \u001b[38;5;28;01mfrom\u001b[39;00m \u001b[38;5;21;01mpytraj\u001b[39;00m\u001b[38;5;21;01m.\u001b[39;00m\u001b[38;5;21;01mcore\u001b[39;00m\u001b[38;5;21;01m.\u001b[39;00m\u001b[38;5;21;01mc_options\u001b[39;00m \u001b[38;5;28;01mimport\u001b[39;00m set_world_silent\n\u001b[1;32m      9\u001b[0m \u001b[38;5;28;01mfrom\u001b[39;00m \u001b[38;5;21;01m.\u001b[39;00m\u001b[38;5;21;01mcontext\u001b[39;00m \u001b[38;5;28;01mimport\u001b[39;00m capture_stdout\n\u001b[1;32m     11\u001b[0m \u001b[38;5;28;01mtry\u001b[39;00m:\n",
      "File \u001b[0;32m~/Programs/miniforge3/envs/webdev/lib/python3.11/site-packages/pytraj/core/__init__.py:2\u001b[0m\n\u001b[1;32m      1\u001b[0m \u001b[38;5;124;03m\"\"\"\"\"\"\u001b[39;00m\n\u001b[0;32m----> 2\u001b[0m \u001b[38;5;28;01mfrom\u001b[39;00m \u001b[38;5;21;01m.\u001b[39;00m\u001b[38;5;21;01mtopology_objects\u001b[39;00m \u001b[38;5;28;01mimport\u001b[39;00m Atom, Residue, Molecule\n\u001b[1;32m      3\u001b[0m \u001b[38;5;28;01mfrom\u001b[39;00m \u001b[38;5;21;01m.\u001b[39;00m\u001b[38;5;21;01mbox\u001b[39;00m \u001b[38;5;28;01mimport\u001b[39;00m Box\n\u001b[1;32m      4\u001b[0m \u001b[38;5;28;01mfrom\u001b[39;00m \u001b[38;5;21;01m.\u001b[39;00m\u001b[38;5;21;01melements\u001b[39;00m \u001b[38;5;28;01mimport\u001b[39;00m mass_atomic_number_dict, mass_element_dict\n",
      "\u001b[0;31mImportError\u001b[0m: dlopen(/Users/van/Programs/miniforge3/envs/webdev/lib/python3.11/site-packages/pytraj/core/topology_objects.cpython-311-darwin.so, 0x0002): tried: '/Users/van/Programs/miniforge3/envs/webdev/lib/python3.11/site-packages/pytraj/core/topology_objects.cpython-311-darwin.so' (mach-o file, but is an incompatible architecture (have 'x86_64', need 'arm64e' or 'arm64')), '/System/Volumes/Preboot/Cryptexes/OS/Users/van/Programs/miniforge3/envs/webdev/lib/python3.11/site-packages/pytraj/core/topology_objects.cpython-311-darwin.so' (no such file), '/Users/van/Programs/miniforge3/envs/webdev/lib/python3.11/site-packages/pytraj/core/topology_objects.cpython-311-darwin.so' (mach-o file, but is an incompatible architecture (have 'x86_64', need 'arm64e' or 'arm64'))"
     ]
    }
   ],
   "source": [
    "import numpy as np\n",
    "import pytraj as pt\n",
    "import matplotlib.pyplot as plt\n",
    "\n",
    "# Load trajectory\n",
    "traj = pt.iterload('../test/prod.nc', top='../test/step3_pbcsetup.parm7')\n",
    "\n",
    "# Superimpose to 1st frame and alpha carbons\n",
    "pt.superpose(traj, ref=0, mask=\"@CA\")\n",
    "\n",
    "rmsf0 = pt.rmsf(traj, mask=\"@CA\")\n",
    "\n",
    "# Shade domains different color\n",
    "# plt.axvspan(   1,   56, facecolor='tab:red', alpha=0.2)\n",
    "# plt.axvspan( 718,  765, facecolor='tab:red', alpha=0.2)\n",
    "# plt.axvspan( 925, 1102, facecolor='tab:red', alpha=0.2)\n",
    "# plt.axvspan(  56,  718, facecolor='tab:blue', alpha=0.2)\n",
    "# plt.axvspan( 765,  924, facecolor='tab:orange', alpha=0.2)\n",
    "# plt.axvspan(1099, 1368, facecolor='tab:green', alpha=0.2)\n",
    "\n",
    "# Plot Residue # vs RMSF\n",
    "plt.plot(np.arange(1,len(rmsf0.T[0])+1), rmsf0.T[1])\n",
    "plt.xlabel('Residue Number')\n",
    "plt.ylabel('RMSF (Å)')\n",
    "# plt.savefig('rmsf.png', dpi=300)\n"
   ]
  },
  {
   "cell_type": "code",
   "execution_count": null,
   "id": "c727bb81-8088-42c2-8de1-fc51f9fbaa30",
   "metadata": {},
   "outputs": [],
   "source": []
  }
 ],
 "metadata": {
  "language_info": {
   "codemirror_mode": {
    "name": "ipython",
    "version": 3
   },
   "file_extension": ".py",
   "mimetype": "text/x-python",
   "name": "python",
   "nbconvert_exporter": "python",
   "pygments_lexer": "ipython3",
   "version": "3.11.8"
  },
  "widgets": {
   "application/vnd.jupyter.widget-state+json": {
    "state": {},
    "version_major": 2,
    "version_minor": 0
   }
  }
 },
 "nbformat": 4,
 "nbformat_minor": 5
}