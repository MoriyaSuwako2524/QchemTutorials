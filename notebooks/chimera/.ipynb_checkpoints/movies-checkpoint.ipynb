{
 "cells": [
  {
   "cell_type": "markdown",
   "id": "150fd462-92be-422b-bc60-a45e79618dd5",
   "metadata": {},
   "source": [
    "# Movie Making with ChimeraX"
   ]
  },
  {
   "cell_type": "markdown",
   "id": "ceff8ec4-a980-49ff-8563-e8334a49e104",
   "metadata": {},
   "source": [
    "## Fading between Models in a Movie\n",
    "\n",
    "### The code looks like \n",
    "\n",
    "```\n",
    "crossfade 48\n",
    "hide #1 ribbon,atom\n",
    "wait 48\n",
    "```\n",
    "\n",
    "One liner:\n",
    "\n",
    "```\n",
    "crossfade 48; hide #1 ribbon,atom; wait 48\n",
    "```\n",
    "\n",
    "Where:\n",
    "\n",
    "crossfade [frames] - fade for # of frames\n",
    "[action] - can be hiding ribbon, show atoms, color, etc.\n",
    "wait [frames] - wait this number of frames before executing next line"
   ]
  },
  {
   "cell_type": "markdown",
   "id": "5ff21b42-245d-488e-9707-db64bc9c0a49",
   "metadata": {},
   "source": [
    "## Morphing transition between 2 PDB structures\n",
    "\n",
    "![Morph](../../media/chimerax_morph.mp4)\n",
    "*Morph between 2 PDB structures of FnCas12a (PDB 6GTG to 6I1K)*\n",
    "\n",
    "The code looks like:\n",
    "\n",
    "```\n",
    "morph #1,2,3,4,5 frames 100\n",
    "```\n",
    "\n",
    "### Example\n",
    "\n",
    "Open 2 PDB files for FnCas12a.\n",
    "\n",
    "```\n",
    "open 6i1k 6gtg\n",
    "```\n",
    "\n",
    "Align the two structures.\n",
    "\n",
    "```\n",
    "match #2 to #1\n",
    "```\n",
    "\n",
    "Morph transition is done by: \n",
    "\n",
    "```\n",
    "morph #1,2,3,4,5 frames 100\n",
    "```"
   ]
  }
 ],
 "metadata": {
  "kernelspec": {
   "display_name": "Python 3 (ipykernel)",
   "language": "python",
   "name": "python3"
  },
  "language_info": {
   "codemirror_mode": {
    "name": "ipython",
    "version": 3
   },
   "file_extension": ".py",
   "mimetype": "text/x-python",
   "name": "python",
   "nbconvert_exporter": "python",
   "pygments_lexer": "ipython3",
   "version": "3.10.10"
  }
 },
 "nbformat": 4,
 "nbformat_minor": 5
}
