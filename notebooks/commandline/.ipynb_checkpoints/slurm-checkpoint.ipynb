{
 "cells": [
  {
   "cell_type": "markdown",
   "id": "d9216444-cd2b-48e4-bb0b-6fdb7051716f",
   "metadata": {},
   "source": [
    "# SLURM Commands\n",
    "\n",
    "SLURM is an open source, fault-tolerant, and highly scalable cluster management and job scheduling system for large and small Linux clusters. \n",
    "\n",
    "[slurm.schemd.com](https://slurm.schedmd.com/overview.html)\n",
    "\n",
    "**NOTE: Change `<username>` with your supercomputing account name.**"
   ]
  },
  {
   "cell_type": "code",
   "execution_count": 7,
   "id": "88060aeb-527a-47ce-9066-55fa32122d28",
   "metadata": {},
   "outputs": [
    {
     "name": "stdout",
     "output_type": "stream",
     "text": [
      "van@some.name.with.edu\n"
     ]
    }
   ],
   "source": [
    "username = \"van\"\n",
    "computer = \"some.name.with.edu\"\n",
    "if username != None and computer != None:\n",
    "    print('%s@%s' % (name, computer.lower()))"
   ]
  },
  {
   "cell_type": "markdown",
   "id": "574b3758-1147-4754-a039-a08e41dcbf0f",
   "metadata": {},
   "source": [
    "# Automate Login with No Password\n",
    "\n",
    "On your local computer, run the following:\n",
    "\n",
    "```bash\n",
    "ssh-keygen -t rsa -b 4096\n",
    "```\n",
    "\n",
    "**NOTE:** Do not set a passphrase when creating the key (Press enter 3 times). Make sure that this file is only readable by you! The public key file (id_dsa.pub or id_rsa.pub) as the name implies can be uploaded to other systems to which you would like passwordless access.\n",
    "\n",
    "Now, create a `~/.ssh` directory on the supercomputer (doesn't matter if this is already there)."
   ]
  },
  {
   "cell_type": "code",
   "execution_count": 3,
   "id": "caa6cf63-37f8-475b-a97d-a637ab764a9d",
   "metadata": {},
   "outputs": [
    {
     "data": {
      "text/markdown": [
       "\n",
       " ``` \n",
       " ssh van@pete.hps.as mkdir -p .ssh \n",
       " ```"
      ],
      "text/plain": [
       "<IPython.core.display.Markdown object>"
      ]
     },
     "execution_count": 3,
     "metadata": {},
     "output_type": "execute_result"
    }
   ],
   "source": [
    "from IPython.display import Markdown as md\n",
    "\n",
    "md(f\"\\n ``` \\n ssh {name}@{hpc} mkdir -p .ssh \\n ```\")"
   ]
  },
  {
   "cell_type": "markdown",
   "id": "7fb43b70-3358-4d4f-aa87-c2b62a9aed8c",
   "metadata": {},
   "source": [
    "Append the public key to the cluser and enter password one last time:"
   ]
  },
  {
   "cell_type": "code",
   "execution_count": 4,
   "id": "606e0a01-4b37-4d5e-a9be-f61fdd67f38e",
   "metadata": {},
   "outputs": [
    {
     "data": {
      "text/markdown": [
       "\n",
       " ``` \n",
       " cat .ssh/id_rsa.pub | ssh van@pete.hps.as 'cat >> ~/.ssh/authorized_keys' \n",
       " ``` \n"
      ],
      "text/plain": [
       "<IPython.core.display.Markdown object>"
      ]
     },
     "execution_count": 4,
     "metadata": {},
     "output_type": "execute_result"
    }
   ],
   "source": [
    "md(f\"\\n ``` \\n cat .ssh/id_rsa.pub | ssh {name}@{hpc} 'cat >> ~/.ssh/authorized_keys' \\n ``` \\n\")"
   ]
  },
  {
   "cell_type": "code",
   "execution_count": null,
   "id": "bdd89f3f-6a7a-410c-aa19-1f2d5b1df17a",
   "metadata": {},
   "outputs": [],
   "source": []
  }
 ],
 "metadata": {
  "kernelspec": {
   "display_name": "Python 3 (ipykernel)",
   "language": "python",
   "name": "python3"
  },
  "language_info": {
   "codemirror_mode": {
    "name": "ipython",
    "version": 3
   },
   "file_extension": ".py",
   "mimetype": "text/x-python",
   "name": "python",
   "nbconvert_exporter": "python",
   "pygments_lexer": "ipython3",
   "version": "3.10.10"
  }
 },
 "nbformat": 4,
 "nbformat_minor": 5
}
