{
 "cells": [
  {
   "cell_type": "code",
   "execution_count": 1,
   "id": "d58acc10-5a57-4171-8254-43f45e84f8dc",
   "metadata": {},
   "outputs": [
    {
     "name": "stderr",
     "output_type": "stream",
     "text": [
      "Warning on use of the timeseries module: If the inherent timescales of the system are long compared to those being analyzed, this statistical inefficiency may be an underestimate.  The estimate presumes the use of many statistically independent samples.  Tests should be performed to assess whether this condition is satisfied.   Be cautious in the interpretation of the data.\n",
      "\n",
      "****** PyMBAR will use 64-bit JAX! *******\n",
      "* JAX is currently set to 32-bit bitsize *\n",
      "* which is its default.                  *\n",
      "*                                        *\n",
      "* PyMBAR requires 64-bit mode and WILL   *\n",
      "* enable JAX's 64-bit mode when called.  *\n",
      "*                                        *\n",
      "* This MAY cause problems with other     *\n",
      "* Uses of JAX in the same code.          *\n",
      "******************************************\n",
      "\n"
     ]
    }
   ],
   "source": [
    "import alchemlyb\n",
    "from alchemlyb.parsing.amber import extract_dHdl, extract_u_nk\n",
    "from alchemlyb.visualisation import plot_convergence\n",
    "from alchemlyb.convergence import forward_backward_convergence\n",
    "import pandas as pd\n",
    "from glob import glob\n",
    "import numpy as np"
   ]
  },
  {
   "cell_type": "code",
   "execution_count": 2,
   "id": "b77c8edb-1c5c-4f2b-94c1-61dc482d48c7",
   "metadata": {},
   "outputs": [],
   "source": [
    "comp = sorted(glob('complex/*/ti001.mdout'))\n",
    "prot = sorted(glob('protein/*/ti001.mdout'))"
   ]
  },
  {
   "cell_type": "code",
   "execution_count": 13,
   "id": "034808ab-d017-40c9-a82b-9a92f5c340e2",
   "metadata": {},
   "outputs": [
    {
     "name": "stderr",
     "output_type": "stream",
     "text": [
      "\u001b[32m2023-10-11 15:58:15.379\u001b[0m | \u001b[1mINFO    \u001b[0m | \u001b[36malchemlyb.parsing.amber\u001b[0m:\u001b[36mextract\u001b[0m:\u001b[36m400\u001b[0m - \u001b[1mRead 2 dV/dl data points in file complex/0.0/ti001.mdout\u001b[0m\n",
      "\u001b[32m2023-10-11 15:58:15.857\u001b[0m | \u001b[1mINFO    \u001b[0m | \u001b[36malchemlyb.parsing.amber\u001b[0m:\u001b[36mextract\u001b[0m:\u001b[36m400\u001b[0m - \u001b[1mRead 2 dV/dl data points in file complex/0.1/ti001.mdout\u001b[0m\n",
      "\u001b[32m2023-10-11 15:58:16.266\u001b[0m | \u001b[1mINFO    \u001b[0m | \u001b[36malchemlyb.parsing.amber\u001b[0m:\u001b[36mextract\u001b[0m:\u001b[36m400\u001b[0m - \u001b[1mRead 2 dV/dl data points in file complex/0.2/ti001.mdout\u001b[0m\n",
      "\u001b[32m2023-10-11 15:58:16.674\u001b[0m | \u001b[1mINFO    \u001b[0m | \u001b[36malchemlyb.parsing.amber\u001b[0m:\u001b[36mextract\u001b[0m:\u001b[36m400\u001b[0m - \u001b[1mRead 2 dV/dl data points in file complex/0.3/ti001.mdout\u001b[0m\n",
      "\u001b[32m2023-10-11 15:58:17.194\u001b[0m | \u001b[1mINFO    \u001b[0m | \u001b[36malchemlyb.parsing.amber\u001b[0m:\u001b[36mextract\u001b[0m:\u001b[36m400\u001b[0m - \u001b[1mRead 2 dV/dl data points in file complex/0.4/ti001.mdout\u001b[0m\n",
      "\u001b[32m2023-10-11 15:58:17.674\u001b[0m | \u001b[1mINFO    \u001b[0m | \u001b[36malchemlyb.parsing.amber\u001b[0m:\u001b[36mextract\u001b[0m:\u001b[36m400\u001b[0m - \u001b[1mRead 2 dV/dl data points in file complex/0.5/ti001.mdout\u001b[0m\n",
      "\u001b[32m2023-10-11 15:58:18.101\u001b[0m | \u001b[1mINFO    \u001b[0m | \u001b[36malchemlyb.parsing.amber\u001b[0m:\u001b[36mextract\u001b[0m:\u001b[36m400\u001b[0m - \u001b[1mRead 2 dV/dl data points in file complex/0.6/ti001.mdout\u001b[0m\n",
      "\u001b[32m2023-10-11 15:58:18.508\u001b[0m | \u001b[1mINFO    \u001b[0m | \u001b[36malchemlyb.parsing.amber\u001b[0m:\u001b[36mextract\u001b[0m:\u001b[36m400\u001b[0m - \u001b[1mRead 2 dV/dl data points in file complex/0.7/ti001.mdout\u001b[0m\n",
      "\u001b[32m2023-10-11 15:58:18.915\u001b[0m | \u001b[33m\u001b[1mWARNING \u001b[0m | \u001b[36malchemlyb.parsing.amber\u001b[0m:\u001b[36mextract\u001b[0m:\u001b[36m369\u001b[0m - \u001b[33m\u001b[1m2 MBAR energies are > 0.0 kcal/mol\u001b[0m\n",
      "\u001b[32m2023-10-11 15:58:18.917\u001b[0m | \u001b[1mINFO    \u001b[0m | \u001b[36malchemlyb.parsing.amber\u001b[0m:\u001b[36mextract\u001b[0m:\u001b[36m400\u001b[0m - \u001b[1mRead 2 dV/dl data points in file complex/0.8/ti001.mdout\u001b[0m\n",
      "\u001b[32m2023-10-11 15:58:19.322\u001b[0m | \u001b[1mINFO    \u001b[0m | \u001b[36malchemlyb.parsing.amber\u001b[0m:\u001b[36mextract\u001b[0m:\u001b[36m400\u001b[0m - \u001b[1mRead 2 dV/dl data points in file complex/0.9/ti001.mdout\u001b[0m\n",
      "\u001b[32m2023-10-11 15:58:19.731\u001b[0m | \u001b[33m\u001b[1mWARNING \u001b[0m | \u001b[36malchemlyb.parsing.amber\u001b[0m:\u001b[36mextract\u001b[0m:\u001b[36m369\u001b[0m - \u001b[33m\u001b[1m2 MBAR energies are > 0.0 kcal/mol\u001b[0m\n",
      "\u001b[32m2023-10-11 15:58:19.733\u001b[0m | \u001b[1mINFO    \u001b[0m | \u001b[36malchemlyb.parsing.amber\u001b[0m:\u001b[36mextract\u001b[0m:\u001b[36m400\u001b[0m - \u001b[1mRead 2 dV/dl data points in file complex/1.0/ti001.mdout\u001b[0m\n",
      "\u001b[32m2023-10-11 15:58:20.143\u001b[0m | \u001b[1mINFO    \u001b[0m | \u001b[36malchemlyb.parsing.amber\u001b[0m:\u001b[36mextract\u001b[0m:\u001b[36m400\u001b[0m - \u001b[1mRead 2 dV/dl data points in file protein/0.0/ti001.mdout\u001b[0m\n",
      "\u001b[32m2023-10-11 15:58:20.553\u001b[0m | \u001b[1mINFO    \u001b[0m | \u001b[36malchemlyb.parsing.amber\u001b[0m:\u001b[36mextract\u001b[0m:\u001b[36m400\u001b[0m - \u001b[1mRead 2 dV/dl data points in file protein/0.1/ti001.mdout\u001b[0m\n",
      "\u001b[32m2023-10-11 15:58:20.964\u001b[0m | \u001b[1mINFO    \u001b[0m | \u001b[36malchemlyb.parsing.amber\u001b[0m:\u001b[36mextract\u001b[0m:\u001b[36m400\u001b[0m - \u001b[1mRead 2 dV/dl data points in file protein/0.2/ti001.mdout\u001b[0m\n",
      "\u001b[32m2023-10-11 15:58:21.375\u001b[0m | \u001b[1mINFO    \u001b[0m | \u001b[36malchemlyb.parsing.amber\u001b[0m:\u001b[36mextract\u001b[0m:\u001b[36m400\u001b[0m - \u001b[1mRead 2 dV/dl data points in file protein/0.3/ti001.mdout\u001b[0m\n",
      "\u001b[32m2023-10-11 15:58:21.779\u001b[0m | \u001b[33m\u001b[1mWARNING \u001b[0m | \u001b[36malchemlyb.parsing.amber\u001b[0m:\u001b[36mextract\u001b[0m:\u001b[36m369\u001b[0m - \u001b[33m\u001b[1m2 MBAR energies are > 0.0 kcal/mol\u001b[0m\n",
      "\u001b[32m2023-10-11 15:58:21.781\u001b[0m | \u001b[1mINFO    \u001b[0m | \u001b[36malchemlyb.parsing.amber\u001b[0m:\u001b[36mextract\u001b[0m:\u001b[36m400\u001b[0m - \u001b[1mRead 2 dV/dl data points in file protein/0.4/ti001.mdout\u001b[0m\n",
      "\u001b[32m2023-10-11 15:58:22.202\u001b[0m | \u001b[1mINFO    \u001b[0m | \u001b[36malchemlyb.parsing.amber\u001b[0m:\u001b[36mextract\u001b[0m:\u001b[36m400\u001b[0m - \u001b[1mRead 2 dV/dl data points in file protein/0.5/ti001.mdout\u001b[0m\n",
      "\u001b[32m2023-10-11 15:58:22.607\u001b[0m | \u001b[1mINFO    \u001b[0m | \u001b[36malchemlyb.parsing.amber\u001b[0m:\u001b[36mextract\u001b[0m:\u001b[36m400\u001b[0m - \u001b[1mRead 2 dV/dl data points in file protein/0.6/ti001.mdout\u001b[0m\n",
      "\u001b[32m2023-10-11 15:58:23.016\u001b[0m | \u001b[33m\u001b[1mWARNING \u001b[0m | \u001b[36malchemlyb.parsing.amber\u001b[0m:\u001b[36mextract\u001b[0m:\u001b[36m369\u001b[0m - \u001b[33m\u001b[1m1 MBAR energy is > 0.0 kcal/mol\u001b[0m\n",
      "\u001b[32m2023-10-11 15:58:23.018\u001b[0m | \u001b[1mINFO    \u001b[0m | \u001b[36malchemlyb.parsing.amber\u001b[0m:\u001b[36mextract\u001b[0m:\u001b[36m400\u001b[0m - \u001b[1mRead 2 dV/dl data points in file protein/0.7/ti001.mdout\u001b[0m\n",
      "\u001b[32m2023-10-11 15:58:23.426\u001b[0m | \u001b[33m\u001b[1mWARNING \u001b[0m | \u001b[36malchemlyb.parsing.amber\u001b[0m:\u001b[36mextract\u001b[0m:\u001b[36m369\u001b[0m - \u001b[33m\u001b[1m2 MBAR energies are > 0.0 kcal/mol\u001b[0m\n",
      "\u001b[32m2023-10-11 15:58:23.429\u001b[0m | \u001b[1mINFO    \u001b[0m | \u001b[36malchemlyb.parsing.amber\u001b[0m:\u001b[36mextract\u001b[0m:\u001b[36m400\u001b[0m - \u001b[1mRead 2 dV/dl data points in file protein/0.8/ti001.mdout\u001b[0m\n",
      "\u001b[32m2023-10-11 15:58:23.835\u001b[0m | \u001b[33m\u001b[1mWARNING \u001b[0m | \u001b[36malchemlyb.parsing.amber\u001b[0m:\u001b[36mextract\u001b[0m:\u001b[36m369\u001b[0m - \u001b[33m\u001b[1m1 MBAR energy is > 0.0 kcal/mol\u001b[0m\n",
      "\u001b[32m2023-10-11 15:58:23.837\u001b[0m | \u001b[1mINFO    \u001b[0m | \u001b[36malchemlyb.parsing.amber\u001b[0m:\u001b[36mextract\u001b[0m:\u001b[36m400\u001b[0m - \u001b[1mRead 2 dV/dl data points in file protein/0.9/ti001.mdout\u001b[0m\n",
      "\u001b[32m2023-10-11 15:58:24.250\u001b[0m | \u001b[1mINFO    \u001b[0m | \u001b[36malchemlyb.parsing.amber\u001b[0m:\u001b[36mextract\u001b[0m:\u001b[36m400\u001b[0m - \u001b[1mRead 2 dV/dl data points in file protein/1.0/ti001.mdout\u001b[0m\n"
     ]
    }
   ],
   "source": [
    "dHdl_comp = alchemlyb.concat([extract_dHdl(mdout, T=300) for mdout in comp])\n",
    "dHdl_prot = alchemlyb.concat([extract_dHdl(mdout, T=300) for mdout in prot])"
   ]
  },
  {
   "cell_type": "code",
   "execution_count": 15,
   "id": "27667945-0574-4ec8-b86a-8a93c3e57cb9",
   "metadata": {},
   "outputs": [],
   "source": [
    "from alchemlyb.estimators import TI\n",
    "\n",
    "ti_comp = TI().fit(dHdl_comp)\n",
    "ti_prot = TI().fit(dHdl_prot)"
   ]
  },
  {
   "cell_type": "code",
   "execution_count": 20,
   "id": "dff84ca0-312f-41c1-a77d-80da3f536345",
   "metadata": {},
   "outputs": [
    {
     "name": "stdout",
     "output_type": "stream",
     "text": [
      "97.5724811178651\n",
      "74.42076358935007\n",
      "comp - prot: 23.15171752851502\n"
     ]
    }
   ],
   "source": [
    "print(ti_comp.delta_f_.loc[0.00, 1.00])\n",
    "print(ti_prot.delta_f_.loc[0.00, 1.00])\n",
    "print('comp - prot:', ti_comp.delta_f_.loc[0.00, 1.00] - ti_prot.delta_f_.loc[0.00, 1.00])"
   ]
  },
  {
   "cell_type": "code",
   "execution_count": 21,
   "id": "5ff8bbfc-e162-4c6c-8714-9ea4953a0432",
   "metadata": {},
   "outputs": [
    {
     "name": "stderr",
     "output_type": "stream",
     "text": [
      "\u001b[32m2023-10-11 16:00:02.111\u001b[0m | \u001b[1mINFO    \u001b[0m | \u001b[36malchemlyb.parsing.amber\u001b[0m:\u001b[36mextract\u001b[0m:\u001b[36m400\u001b[0m - \u001b[1mRead 2 dV/dl data points in file complex/0.0/ti001.mdout\u001b[0m\n",
      "\u001b[32m2023-10-11 16:00:02.588\u001b[0m | \u001b[1mINFO    \u001b[0m | \u001b[36malchemlyb.parsing.amber\u001b[0m:\u001b[36mextract\u001b[0m:\u001b[36m400\u001b[0m - \u001b[1mRead 2 dV/dl data points in file complex/0.1/ti001.mdout\u001b[0m\n",
      "\u001b[32m2023-10-11 16:00:03.005\u001b[0m | \u001b[1mINFO    \u001b[0m | \u001b[36malchemlyb.parsing.amber\u001b[0m:\u001b[36mextract\u001b[0m:\u001b[36m400\u001b[0m - \u001b[1mRead 2 dV/dl data points in file complex/0.2/ti001.mdout\u001b[0m\n",
      "\u001b[32m2023-10-11 16:00:03.416\u001b[0m | \u001b[1mINFO    \u001b[0m | \u001b[36malchemlyb.parsing.amber\u001b[0m:\u001b[36mextract\u001b[0m:\u001b[36m400\u001b[0m - \u001b[1mRead 2 dV/dl data points in file complex/0.3/ti001.mdout\u001b[0m\n",
      "\u001b[32m2023-10-11 16:00:03.818\u001b[0m | \u001b[1mINFO    \u001b[0m | \u001b[36malchemlyb.parsing.amber\u001b[0m:\u001b[36mextract\u001b[0m:\u001b[36m400\u001b[0m - \u001b[1mRead 2 dV/dl data points in file complex/0.4/ti001.mdout\u001b[0m\n",
      "\u001b[32m2023-10-11 16:00:04.224\u001b[0m | \u001b[1mINFO    \u001b[0m | \u001b[36malchemlyb.parsing.amber\u001b[0m:\u001b[36mextract\u001b[0m:\u001b[36m400\u001b[0m - \u001b[1mRead 2 dV/dl data points in file complex/0.5/ti001.mdout\u001b[0m\n",
      "\u001b[32m2023-10-11 16:00:04.625\u001b[0m | \u001b[1mINFO    \u001b[0m | \u001b[36malchemlyb.parsing.amber\u001b[0m:\u001b[36mextract\u001b[0m:\u001b[36m400\u001b[0m - \u001b[1mRead 2 dV/dl data points in file complex/0.6/ti001.mdout\u001b[0m\n",
      "\u001b[32m2023-10-11 16:00:05.030\u001b[0m | \u001b[1mINFO    \u001b[0m | \u001b[36malchemlyb.parsing.amber\u001b[0m:\u001b[36mextract\u001b[0m:\u001b[36m400\u001b[0m - \u001b[1mRead 2 dV/dl data points in file complex/0.7/ti001.mdout\u001b[0m\n",
      "\u001b[32m2023-10-11 16:00:05.437\u001b[0m | \u001b[33m\u001b[1mWARNING \u001b[0m | \u001b[36malchemlyb.parsing.amber\u001b[0m:\u001b[36mextract\u001b[0m:\u001b[36m369\u001b[0m - \u001b[33m\u001b[1m2 MBAR energies are > 0.0 kcal/mol\u001b[0m\n",
      "\u001b[32m2023-10-11 16:00:05.439\u001b[0m | \u001b[1mINFO    \u001b[0m | \u001b[36malchemlyb.parsing.amber\u001b[0m:\u001b[36mextract\u001b[0m:\u001b[36m400\u001b[0m - \u001b[1mRead 2 dV/dl data points in file complex/0.8/ti001.mdout\u001b[0m\n",
      "\u001b[32m2023-10-11 16:00:05.845\u001b[0m | \u001b[1mINFO    \u001b[0m | \u001b[36malchemlyb.parsing.amber\u001b[0m:\u001b[36mextract\u001b[0m:\u001b[36m400\u001b[0m - \u001b[1mRead 2 dV/dl data points in file complex/0.9/ti001.mdout\u001b[0m\n",
      "\u001b[32m2023-10-11 16:00:06.246\u001b[0m | \u001b[33m\u001b[1mWARNING \u001b[0m | \u001b[36malchemlyb.parsing.amber\u001b[0m:\u001b[36mextract\u001b[0m:\u001b[36m369\u001b[0m - \u001b[33m\u001b[1m2 MBAR energies are > 0.0 kcal/mol\u001b[0m\n",
      "\u001b[32m2023-10-11 16:00:06.249\u001b[0m | \u001b[1mINFO    \u001b[0m | \u001b[36malchemlyb.parsing.amber\u001b[0m:\u001b[36mextract\u001b[0m:\u001b[36m400\u001b[0m - \u001b[1mRead 2 dV/dl data points in file complex/1.0/ti001.mdout\u001b[0m\n",
      "\u001b[32m2023-10-11 16:00:06.657\u001b[0m | \u001b[1mINFO    \u001b[0m | \u001b[36malchemlyb.parsing.amber\u001b[0m:\u001b[36mextract\u001b[0m:\u001b[36m400\u001b[0m - \u001b[1mRead 2 dV/dl data points in file protein/0.0/ti001.mdout\u001b[0m\n",
      "\u001b[32m2023-10-11 16:00:07.063\u001b[0m | \u001b[1mINFO    \u001b[0m | \u001b[36malchemlyb.parsing.amber\u001b[0m:\u001b[36mextract\u001b[0m:\u001b[36m400\u001b[0m - \u001b[1mRead 2 dV/dl data points in file protein/0.1/ti001.mdout\u001b[0m\n",
      "\u001b[32m2023-10-11 16:00:07.467\u001b[0m | \u001b[1mINFO    \u001b[0m | \u001b[36malchemlyb.parsing.amber\u001b[0m:\u001b[36mextract\u001b[0m:\u001b[36m400\u001b[0m - \u001b[1mRead 2 dV/dl data points in file protein/0.2/ti001.mdout\u001b[0m\n",
      "\u001b[32m2023-10-11 16:00:07.877\u001b[0m | \u001b[1mINFO    \u001b[0m | \u001b[36malchemlyb.parsing.amber\u001b[0m:\u001b[36mextract\u001b[0m:\u001b[36m400\u001b[0m - \u001b[1mRead 2 dV/dl data points in file protein/0.3/ti001.mdout\u001b[0m\n",
      "\u001b[32m2023-10-11 16:00:08.288\u001b[0m | \u001b[33m\u001b[1mWARNING \u001b[0m | \u001b[36malchemlyb.parsing.amber\u001b[0m:\u001b[36mextract\u001b[0m:\u001b[36m369\u001b[0m - \u001b[33m\u001b[1m2 MBAR energies are > 0.0 kcal/mol\u001b[0m\n",
      "\u001b[32m2023-10-11 16:00:08.293\u001b[0m | \u001b[1mINFO    \u001b[0m | \u001b[36malchemlyb.parsing.amber\u001b[0m:\u001b[36mextract\u001b[0m:\u001b[36m400\u001b[0m - \u001b[1mRead 2 dV/dl data points in file protein/0.4/ti001.mdout\u001b[0m\n",
      "\u001b[32m2023-10-11 16:00:08.706\u001b[0m | \u001b[1mINFO    \u001b[0m | \u001b[36malchemlyb.parsing.amber\u001b[0m:\u001b[36mextract\u001b[0m:\u001b[36m400\u001b[0m - \u001b[1mRead 2 dV/dl data points in file protein/0.5/ti001.mdout\u001b[0m\n",
      "\u001b[32m2023-10-11 16:00:09.115\u001b[0m | \u001b[1mINFO    \u001b[0m | \u001b[36malchemlyb.parsing.amber\u001b[0m:\u001b[36mextract\u001b[0m:\u001b[36m400\u001b[0m - \u001b[1mRead 2 dV/dl data points in file protein/0.6/ti001.mdout\u001b[0m\n",
      "\u001b[32m2023-10-11 16:00:09.522\u001b[0m | \u001b[33m\u001b[1mWARNING \u001b[0m | \u001b[36malchemlyb.parsing.amber\u001b[0m:\u001b[36mextract\u001b[0m:\u001b[36m369\u001b[0m - \u001b[33m\u001b[1m1 MBAR energy is > 0.0 kcal/mol\u001b[0m\n",
      "\u001b[32m2023-10-11 16:00:09.524\u001b[0m | \u001b[1mINFO    \u001b[0m | \u001b[36malchemlyb.parsing.amber\u001b[0m:\u001b[36mextract\u001b[0m:\u001b[36m400\u001b[0m - \u001b[1mRead 2 dV/dl data points in file protein/0.7/ti001.mdout\u001b[0m\n",
      "\u001b[32m2023-10-11 16:00:09.934\u001b[0m | \u001b[33m\u001b[1mWARNING \u001b[0m | \u001b[36malchemlyb.parsing.amber\u001b[0m:\u001b[36mextract\u001b[0m:\u001b[36m369\u001b[0m - \u001b[33m\u001b[1m2 MBAR energies are > 0.0 kcal/mol\u001b[0m\n",
      "\u001b[32m2023-10-11 16:00:09.936\u001b[0m | \u001b[1mINFO    \u001b[0m | \u001b[36malchemlyb.parsing.amber\u001b[0m:\u001b[36mextract\u001b[0m:\u001b[36m400\u001b[0m - \u001b[1mRead 2 dV/dl data points in file protein/0.8/ti001.mdout\u001b[0m\n",
      "\u001b[32m2023-10-11 16:00:10.341\u001b[0m | \u001b[33m\u001b[1mWARNING \u001b[0m | \u001b[36malchemlyb.parsing.amber\u001b[0m:\u001b[36mextract\u001b[0m:\u001b[36m369\u001b[0m - \u001b[33m\u001b[1m1 MBAR energy is > 0.0 kcal/mol\u001b[0m\n",
      "\u001b[32m2023-10-11 16:00:10.346\u001b[0m | \u001b[1mINFO    \u001b[0m | \u001b[36malchemlyb.parsing.amber\u001b[0m:\u001b[36mextract\u001b[0m:\u001b[36m400\u001b[0m - \u001b[1mRead 2 dV/dl data points in file protein/0.9/ti001.mdout\u001b[0m\n",
      "\u001b[32m2023-10-11 16:00:10.865\u001b[0m | \u001b[1mINFO    \u001b[0m | \u001b[36malchemlyb.parsing.amber\u001b[0m:\u001b[36mextract\u001b[0m:\u001b[36m400\u001b[0m - \u001b[1mRead 2 dV/dl data points in file protein/1.0/ti001.mdout\u001b[0m\n"
     ]
    }
   ],
   "source": [
    "u_nk_comp = alchemlyb.concat([extract_u_nk(mdout, T=300) for mdout in comp])\n",
    "u_nk_prot = alchemlyb.concat([extract_u_nk(mdout, T=300) for mdout in prot])"
   ]
  },
  {
   "cell_type": "code",
   "execution_count": 22,
   "id": "8b16df37-1bdf-4edd-8c99-3c4bf42d004f",
   "metadata": {},
   "outputs": [],
   "source": [
    "from alchemlyb.estimators import MBAR\n",
    "\n",
    "mbar_comp = MBAR().fit(u_nk_comp)\n",
    "mbar_prot = MBAR().fit(u_nk_prot)"
   ]
  },
  {
   "cell_type": "code",
   "execution_count": 23,
   "id": "b1a8316a-981c-4dda-885d-868e0660d6c4",
   "metadata": {},
   "outputs": [
    {
     "name": "stdout",
     "output_type": "stream",
     "text": [
      "93.62602036252801\n",
      "72.8744454106536\n",
      "20.751574951874403\n"
     ]
    }
   ],
   "source": [
    "print(mbar_comp.delta_f_.loc[0.00,1.00])\n",
    "print(mbar_prot.delta_f_.loc[0.00,1.00])\n",
    "print(mbar_comp.delta_f_.loc[0.00,1.00] - mbar_prot.delta_f_.loc[0.00,1.00])"
   ]
  },
  {
   "cell_type": "code",
   "execution_count": null,
   "id": "2ee2889c-2b6a-4c86-98fb-b02a105721ff",
   "metadata": {},
   "outputs": [],
   "source": []
  }
 ],
 "metadata": {
  "kernelspec": {
   "display_name": "Python [conda env:alchem]",
   "language": "python",
   "name": "conda-env-alchem-py"
  },
  "language_info": {
   "codemirror_mode": {
    "name": "ipython",
    "version": 3
   },
   "file_extension": ".py",
   "mimetype": "text/x-python",
   "name": "python",
   "nbconvert_exporter": "python",
   "pygments_lexer": "ipython3",
   "version": "3.11.5"
  }
 },
 "nbformat": 4,
 "nbformat_minor": 5
}
